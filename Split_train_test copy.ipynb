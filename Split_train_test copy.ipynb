{
 "cells": [
  {
   "cell_type": "code",
   "execution_count": 8,
   "metadata": {},
   "outputs": [],
   "source": [
    "import pandas as pd\n",
    "from sklearn.model_selection import train_test_split\n",
    "import matplotlib.pyplot as plt\n",
    "import seaborn as sns"
   ]
  },
  {
   "attachments": {},
   "cell_type": "markdown",
   "metadata": {},
   "source": [
    "## Load Data"
   ]
  },
  {
   "cell_type": "code",
   "execution_count": 25,
   "metadata": {},
   "outputs": [
    {
     "data": {
      "text/html": [
       "<div>\n",
       "<style scoped>\n",
       "    .dataframe tbody tr th:only-of-type {\n",
       "        vertical-align: middle;\n",
       "    }\n",
       "\n",
       "    .dataframe tbody tr th {\n",
       "        vertical-align: top;\n",
       "    }\n",
       "\n",
       "    .dataframe thead th {\n",
       "        text-align: right;\n",
       "    }\n",
       "</style>\n",
       "<table border=\"1\" class=\"dataframe\">\n",
       "  <thead>\n",
       "    <tr style=\"text-align: right;\">\n",
       "      <th></th>\n",
       "      <th>Berita</th>\n",
       "      <th>Label</th>\n",
       "      <th>Category_id</th>\n",
       "      <th>Word2Vec Vector</th>\n",
       "    </tr>\n",
       "  </thead>\n",
       "  <tbody>\n",
       "    <tr>\n",
       "      <th>0</th>\n",
       "      <td>['duga', 'laku', 'keras', 'anak', 'isa', 'baja...</td>\n",
       "      <td>orang asing</td>\n",
       "      <td>4</td>\n",
       "      <td>[0.4209834635257721, 0.05459590628743172, 0.23...</td>\n",
       "    </tr>\n",
       "    <tr>\n",
       "      <th>1</th>\n",
       "      <td>['miris', 'anak', 'jakarta', 'korban', 'keras'...</td>\n",
       "      <td>keluarga</td>\n",
       "      <td>0</td>\n",
       "      <td>[0.2606388032436371, 0.2641247510910034, 0.067...</td>\n",
       "    </tr>\n",
       "    <tr>\n",
       "      <th>2</th>\n",
       "      <td>['polisi', 'aman', 'oknum', 'guru', 'sd', 'sin...</td>\n",
       "      <td>tenaga pendidik</td>\n",
       "      <td>2</td>\n",
       "      <td>[0.21270155906677246, 0.3647041320800781, 0.25...</td>\n",
       "    </tr>\n",
       "    <tr>\n",
       "      <th>3</th>\n",
       "      <td>['anak', 'tenggelam', 'catat', 'hitam', 'keras...</td>\n",
       "      <td>keluarga</td>\n",
       "      <td>0</td>\n",
       "      <td>[0.33772405982017517, 0.3632403016090393, 0.18...</td>\n",
       "    </tr>\n",
       "    <tr>\n",
       "      <th>4</th>\n",
       "      <td>['sangka', 'bullying', 'sma', 'internasional',...</td>\n",
       "      <td>teman</td>\n",
       "      <td>3</td>\n",
       "      <td>[0.2748887538909912, 0.21491208672523499, 0.00...</td>\n",
       "    </tr>\n",
       "  </tbody>\n",
       "</table>\n",
       "</div>"
      ],
      "text/plain": [
       "                                              Berita            Label  \\\n",
       "0  ['duga', 'laku', 'keras', 'anak', 'isa', 'baja...      orang asing   \n",
       "1  ['miris', 'anak', 'jakarta', 'korban', 'keras'...         keluarga   \n",
       "2  ['polisi', 'aman', 'oknum', 'guru', 'sd', 'sin...  tenaga pendidik   \n",
       "3  ['anak', 'tenggelam', 'catat', 'hitam', 'keras...         keluarga   \n",
       "4  ['sangka', 'bullying', 'sma', 'internasional',...            teman   \n",
       "\n",
       "   Category_id                                    Word2Vec Vector  \n",
       "0            4  [0.4209834635257721, 0.05459590628743172, 0.23...  \n",
       "1            0  [0.2606388032436371, 0.2641247510910034, 0.067...  \n",
       "2            2  [0.21270155906677246, 0.3647041320800781, 0.25...  \n",
       "3            0  [0.33772405982017517, 0.3632403016090393, 0.18...  \n",
       "4            3  [0.2748887538909912, 0.21491208672523499, 0.00...  "
      ]
     },
     "execution_count": 25,
     "metadata": {},
     "output_type": "execute_result"
    }
   ],
   "source": [
    "filename = \"Word2Vec/Word2vec_Vector_3_0.01_70.csv\"\n",
    "df = pd.read_csv(filename)\n",
    "df.head()"
   ]
  },
  {
   "attachments": {},
   "cell_type": "markdown",
   "metadata": {},
   "source": [
    "## Split Data (80:20)"
   ]
  },
  {
   "cell_type": "code",
   "execution_count": 26,
   "metadata": {},
   "outputs": [],
   "source": [
    "# split the dataset\n",
    "train_df, test_df = train_test_split(df, test_size=0.2, random_state=42, shuffle=True)"
   ]
  },
  {
   "cell_type": "code",
   "execution_count": 19,
   "metadata": {},
   "outputs": [
    {
     "data": {
      "text/html": [
       "<div>\n",
       "<style scoped>\n",
       "    .dataframe tbody tr th:only-of-type {\n",
       "        vertical-align: middle;\n",
       "    }\n",
       "\n",
       "    .dataframe tbody tr th {\n",
       "        vertical-align: top;\n",
       "    }\n",
       "\n",
       "    .dataframe thead th {\n",
       "        text-align: right;\n",
       "    }\n",
       "</style>\n",
       "<table border=\"1\" class=\"dataframe\">\n",
       "  <thead>\n",
       "    <tr style=\"text-align: right;\">\n",
       "      <th></th>\n",
       "      <th>Berita</th>\n",
       "      <th>Label</th>\n",
       "      <th>Category_id</th>\n",
       "    </tr>\n",
       "  </thead>\n",
       "  <tbody>\n",
       "    <tr>\n",
       "      <th>969</th>\n",
       "      <td>Ayah di Pinrang Ditangkap Usai Sandera dan Anc...</td>\n",
       "      <td>keluarga</td>\n",
       "      <td>0</td>\n",
       "    </tr>\n",
       "    <tr>\n",
       "      <th>678</th>\n",
       "      <td>Dugaan Anak Dibawa Orang Tak Dikenal, Attila S...</td>\n",
       "      <td>orang asing</td>\n",
       "      <td>4</td>\n",
       "    </tr>\n",
       "    <tr>\n",
       "      <th>894</th>\n",
       "      <td>DP3A Lakukan Pendampingan Korban dan Pelaku Pe...</td>\n",
       "      <td>teman</td>\n",
       "      <td>3</td>\n",
       "    </tr>\n",
       "    <tr>\n",
       "      <th>33</th>\n",
       "      <td>Inara Rusli Bawa Kunci Bukti Dugaan Virgoun La...</td>\n",
       "      <td>keluarga</td>\n",
       "      <td>0</td>\n",
       "    </tr>\n",
       "    <tr>\n",
       "      <th>31</th>\n",
       "      <td>Viral Video Bocah Terikat di Tiang Listrik Pek...</td>\n",
       "      <td>orang asing</td>\n",
       "      <td>4</td>\n",
       "    </tr>\n",
       "  </tbody>\n",
       "</table>\n",
       "</div>"
      ],
      "text/plain": [
       "                                                Berita        Label  \\\n",
       "969  Ayah di Pinrang Ditangkap Usai Sandera dan Anc...     keluarga   \n",
       "678  Dugaan Anak Dibawa Orang Tak Dikenal, Attila S...  orang asing   \n",
       "894  DP3A Lakukan Pendampingan Korban dan Pelaku Pe...        teman   \n",
       "33   Inara Rusli Bawa Kunci Bukti Dugaan Virgoun La...     keluarga   \n",
       "31   Viral Video Bocah Terikat di Tiang Listrik Pek...  orang asing   \n",
       "\n",
       "     Category_id  \n",
       "969            0  \n",
       "678            4  \n",
       "894            3  \n",
       "33             0  \n",
       "31             4  "
      ]
     },
     "execution_count": 19,
     "metadata": {},
     "output_type": "execute_result"
    }
   ],
   "source": [
    "train_df.head()"
   ]
  },
  {
   "cell_type": "code",
   "execution_count": 20,
   "metadata": {},
   "outputs": [
    {
     "data": {
      "text/html": [
       "<div>\n",
       "<style scoped>\n",
       "    .dataframe tbody tr th:only-of-type {\n",
       "        vertical-align: middle;\n",
       "    }\n",
       "\n",
       "    .dataframe tbody tr th {\n",
       "        vertical-align: top;\n",
       "    }\n",
       "\n",
       "    .dataframe thead th {\n",
       "        text-align: right;\n",
       "    }\n",
       "</style>\n",
       "<table border=\"1\" class=\"dataframe\">\n",
       "  <thead>\n",
       "    <tr style=\"text-align: right;\">\n",
       "      <th></th>\n",
       "      <th>Berita</th>\n",
       "      <th>Label</th>\n",
       "      <th>Category_id</th>\n",
       "    </tr>\n",
       "  </thead>\n",
       "  <tbody>\n",
       "    <tr>\n",
       "      <th>199</th>\n",
       "      <td>Ternyata Ini Bukan Pertama Kali Anak Selebgram...</td>\n",
       "      <td>pengasuh</td>\n",
       "      <td>1</td>\n",
       "    </tr>\n",
       "    <tr>\n",
       "      <th>789</th>\n",
       "      <td>Perkosa 27 Gadis Remaja, Guru Ngaji di Senegal...</td>\n",
       "      <td>tenaga pendidik</td>\n",
       "      <td>2</td>\n",
       "    </tr>\n",
       "    <tr>\n",
       "      <th>174</th>\n",
       "      <td>Pemilik Daycare di Pekanbaru Jadi Tersangka Us...</td>\n",
       "      <td>pengasuh</td>\n",
       "      <td>1</td>\n",
       "    </tr>\n",
       "    <tr>\n",
       "      <th>467</th>\n",
       "      <td>Heboh Ayah Perkosa Anak Kandung di Deli Serdan...</td>\n",
       "      <td>keluarga</td>\n",
       "      <td>0</td>\n",
       "    </tr>\n",
       "    <tr>\n",
       "      <th>66</th>\n",
       "      <td>Terungkap Sadisnya Ayah di Sorong Bunuh-Kubur ...</td>\n",
       "      <td>keluarga</td>\n",
       "      <td>0</td>\n",
       "    </tr>\n",
       "  </tbody>\n",
       "</table>\n",
       "</div>"
      ],
      "text/plain": [
       "                                                Berita            Label  \\\n",
       "199  Ternyata Ini Bukan Pertama Kali Anak Selebgram...         pengasuh   \n",
       "789  Perkosa 27 Gadis Remaja, Guru Ngaji di Senegal...  tenaga pendidik   \n",
       "174  Pemilik Daycare di Pekanbaru Jadi Tersangka Us...         pengasuh   \n",
       "467  Heboh Ayah Perkosa Anak Kandung di Deli Serdan...         keluarga   \n",
       "66   Terungkap Sadisnya Ayah di Sorong Bunuh-Kubur ...         keluarga   \n",
       "\n",
       "     Category_id  \n",
       "199            1  \n",
       "789            2  \n",
       "174            1  \n",
       "467            0  \n",
       "66             0  "
      ]
     },
     "execution_count": 20,
     "metadata": {},
     "output_type": "execute_result"
    }
   ],
   "source": [
    "test_df.head()"
   ]
  },
  {
   "cell_type": "code",
   "execution_count": 21,
   "metadata": {},
   "outputs": [
    {
     "name": "stdout",
     "output_type": "stream",
     "text": [
      "Shape Data Training:  (780, 3)\n",
      "Shape Data Testing:  (195, 3)\n"
     ]
    }
   ],
   "source": [
    "print(\"Shape Data Training: \", train_df.shape)\n",
    "print(\"Shape Data Testing: \", test_df.shape)"
   ]
  },
  {
   "cell_type": "code",
   "execution_count": 22,
   "metadata": {},
   "outputs": [],
   "source": [
    "train_df.to_csv(\"Result/All_Process/Train_Data.csv\", index=False)\n",
    "test_df.to_csv(\"Result/All_Process/Test_Data.csv\", index=False)"
   ]
  },
  {
   "attachments": {},
   "cell_type": "markdown",
   "metadata": {},
   "source": [
    "### See The Data"
   ]
  },
  {
   "attachments": {},
   "cell_type": "markdown",
   "metadata": {},
   "source": [
    "##### Bar Chart 1: Number of Train and Test Data"
   ]
  },
  {
   "cell_type": "code",
   "execution_count": 8,
   "metadata": {},
   "outputs": [
    {
     "data": {
      "image/png": "[encoded data removed]",
      "text/plain": [
       "<Figure size 640x480 with 1 Axes>"
      ]
     },
     "metadata": {},
     "output_type": "display_data"
    }
   ],
   "source": [
    "\n",
    "plt.figure()\n",
    "bars = sns.barplot(x=['Train', 'Test'], y=[len(train_df), len(test_df)])\n",
    "\n",
    "# Add text labels on top of bars\n",
    "for bar in bars.patches:\n",
    "    plt.text(bar.get_x() + bar.get_width() / 2, bar.get_height(), \n",
    "             f'{int(bar.get_height())}', \n",
    "             ha='center', va='bottom', color='black')\n",
    "\n",
    "plt.xlabel(\"Tipe Data\")\n",
    "plt.ylabel(\"Jumlah Data\")\n",
    "plt.title(\"Distribusi Data Train dan Test\")\n",
    "plt.ylim(0, max(len(train_df), len(test_df)) * 1.1)  # Adjust ylim for visibility\n",
    "plt.show()"
   ]
  },
  {
   "attachments": {},
   "cell_type": "markdown",
   "metadata": {},
   "source": [
    "##### Bar Chart 2: Number of Perpetrator Categories in Train and Test"
   ]
  },
  {
   "cell_type": "code",
   "execution_count": 9,
   "metadata": {},
   "outputs": [
    {
     "data": {
      "text/plain": [
       "<Figure size 1000x500 with 0 Axes>"
      ]
     },
     "metadata": {},
     "output_type": "display_data"
    },
    {
     "data": {
      "image/png": "[encoded data removed]",
      "text/plain": [
       "<Figure size 1000x500 with 1 Axes>"
      ]
     },
     "metadata": {},
     "output_type": "display_data"
    }
   ],
   "source": [
    "# Mapping Category_id to labels\n",
    "category_labels = {\n",
    "    0: \"Keluarga\",\n",
    "    1: \"Pengasuh\",\n",
    "    2: \"Tenaga Pendidik\",\n",
    "    3: \"Teman\",\n",
    "    4: \"Orang Asing\"\n",
    "}\n",
    "\n",
    "plt.figure(figsize=(10, 5))\n",
    "\n",
    "# Assuming the perpetrator category is in a column named \"perpetrator_category\"\n",
    "train_counts = train_df['Category_id'].value_counts()\n",
    "test_counts = test_df['Category_id'].value_counts()\n",
    "\n",
    "df_counts = pd.DataFrame({'Train': train_counts, 'Test': test_counts}).fillna(0)\n",
    "\n",
    "ax = df_counts.plot(kind='bar', figsize=(10, 5), colormap='coolwarm')\n",
    "\n",
    "plt.xlabel(\"Kategori Pelaku Kekerasan Anak\")\n",
    "plt.ylabel(\"Jumlah Kasus\")\n",
    "plt.title(\"Distribusi Pelaku Kekerasan Anak\")\n",
    "plt.xticks(rotation=0)\n",
    "plt.legend(title=\"Dataset\")\n",
    "\n",
    "# Change X-tick labels to category names\n",
    "ax.set_xticklabels([category_labels[idx] for idx in df_counts.index])\n",
    "\n",
    "# Add text labels on top of bars\n",
    "for container in ax.containers:\n",
    "    ax.bar_label(container, fmt='%d', fontsize=10)\n",
    "\n",
    "plt.show()"
   ]
  },
  {
   "attachments": {},
   "cell_type": "markdown",
   "metadata": {},
   "source": []
  }
 ],
 "metadata": {
  "kernelspec": {
   "display_name": "Python 3",
   "language": "python",
   "name": "python3"
  },
  "language_info": {
   "codemirror_mode": {
    "name": "ipython",
    "version": 3
   },
   "file_extension": ".py",
   "mimetype": "text/x-python",
   "name": "python",
   "nbconvert_exporter": "python",
   "pygments_lexer": "ipython3",
   "version": "3.10.6"
  },
  "orig_nbformat": 4
 },
 "nbformat": 4,
 "nbformat_minor": 2
}
