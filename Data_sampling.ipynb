{
 "cells": [
  {
   "attachments": {},
   "cell_type": "markdown",
   "metadata": {},
   "source": [
    "### Create Data Sampling 10% from Dataset"
   ]
  },
  {
   "cell_type": "code",
   "execution_count": 1,
   "metadata": {},
   "outputs": [],
   "source": [
    "import pandas as pd"
   ]
  },
  {
   "cell_type": "code",
   "execution_count": 2,
   "metadata": {},
   "outputs": [],
   "source": [
    "filename = \"Word2Vec/Word2vecVector_3_0.01_50.csv\""
   ]
  },
  {
   "cell_type": "code",
   "execution_count": 3,
   "metadata": {},
   "outputs": [
    {
     "data": {
      "text/html": [
       "<div>\n",
       "<style scoped>\n",
       "    .dataframe tbody tr th:only-of-type {\n",
       "        vertical-align: middle;\n",
       "    }\n",
       "\n",
       "    .dataframe tbody tr th {\n",
       "        vertical-align: top;\n",
       "    }\n",
       "\n",
       "    .dataframe thead th {\n",
       "        text-align: right;\n",
       "    }\n",
       "</style>\n",
       "<table border=\"1\" class=\"dataframe\">\n",
       "  <thead>\n",
       "    <tr style=\"text-align: right;\">\n",
       "      <th></th>\n",
       "      <th>Berita</th>\n",
       "      <th>Label</th>\n",
       "      <th>Category_id</th>\n",
       "      <th>Word2Vec Vector</th>\n",
       "    </tr>\n",
       "  </thead>\n",
       "  <tbody>\n",
       "    <tr>\n",
       "      <th>0</th>\n",
       "      <td>['duga', 'laku', 'keras', 'anak', 'isa', 'baja...</td>\n",
       "      <td>orang asing</td>\n",
       "      <td>4</td>\n",
       "      <td>[0.18595603108406067, 0.09029663354158401, 0.2...</td>\n",
       "    </tr>\n",
       "    <tr>\n",
       "      <th>1</th>\n",
       "      <td>['miris', 'anak', 'jakarta', 'korban', 'keras'...</td>\n",
       "      <td>keluarga</td>\n",
       "      <td>0</td>\n",
       "      <td>[0.5230919122695923, 0.1680660843849182, 0.322...</td>\n",
       "    </tr>\n",
       "    <tr>\n",
       "      <th>2</th>\n",
       "      <td>['polisi', 'aman', 'oknum', 'guru', 'sd', 'sin...</td>\n",
       "      <td>tenaga pendidik</td>\n",
       "      <td>2</td>\n",
       "      <td>[0.353085994720459, 0.24666112661361694, 0.351...</td>\n",
       "    </tr>\n",
       "    <tr>\n",
       "      <th>3</th>\n",
       "      <td>['anak', 'tenggelam', 'catat', 'hitam', 'keras...</td>\n",
       "      <td>keluarga</td>\n",
       "      <td>0</td>\n",
       "      <td>[0.2728378474712372, 0.2603999376296997, 0.426...</td>\n",
       "    </tr>\n",
       "    <tr>\n",
       "      <th>4</th>\n",
       "      <td>['sangka', 'bullying', 'sma', 'internasional',...</td>\n",
       "      <td>teman</td>\n",
       "      <td>3</td>\n",
       "      <td>[0.33065786957740784, -0.05498578026890755, 0....</td>\n",
       "    </tr>\n",
       "  </tbody>\n",
       "</table>\n",
       "</div>"
      ],
      "text/plain": [
       "                                              Berita            Label  \\\n",
       "0  ['duga', 'laku', 'keras', 'anak', 'isa', 'baja...      orang asing   \n",
       "1  ['miris', 'anak', 'jakarta', 'korban', 'keras'...         keluarga   \n",
       "2  ['polisi', 'aman', 'oknum', 'guru', 'sd', 'sin...  tenaga pendidik   \n",
       "3  ['anak', 'tenggelam', 'catat', 'hitam', 'keras...         keluarga   \n",
       "4  ['sangka', 'bullying', 'sma', 'internasional',...            teman   \n",
       "\n",
       "   Category_id                                    Word2Vec Vector  \n",
       "0            4  [0.18595603108406067, 0.09029663354158401, 0.2...  \n",
       "1            0  [0.5230919122695923, 0.1680660843849182, 0.322...  \n",
       "2            2  [0.353085994720459, 0.24666112661361694, 0.351...  \n",
       "3            0  [0.2728378474712372, 0.2603999376296997, 0.426...  \n",
       "4            3  [0.33065786957740784, -0.05498578026890755, 0....  "
      ]
     },
     "execution_count": 3,
     "metadata": {},
     "output_type": "execute_result"
    }
   ],
   "source": [
    "df = pd.read_csv(filename, header=0)\n",
    "df.head(5)"
   ]
  },
  {
   "cell_type": "code",
   "execution_count": 4,
   "metadata": {},
   "outputs": [
    {
     "name": "stdout",
     "output_type": "stream",
     "text": [
      "<class 'pandas.core.frame.DataFrame'>\n"
     ]
    }
   ],
   "source": [
    "print(type(df))"
   ]
  },
  {
   "cell_type": "code",
   "execution_count": 8,
   "metadata": {},
   "outputs": [
    {
     "data": {
      "text/html": [
       "<div>\n",
       "<style scoped>\n",
       "    .dataframe tbody tr th:only-of-type {\n",
       "        vertical-align: middle;\n",
       "    }\n",
       "\n",
       "    .dataframe tbody tr th {\n",
       "        vertical-align: top;\n",
       "    }\n",
       "\n",
       "    .dataframe thead th {\n",
       "        text-align: right;\n",
       "    }\n",
       "</style>\n",
       "<table border=\"1\" class=\"dataframe\">\n",
       "  <thead>\n",
       "    <tr style=\"text-align: right;\">\n",
       "      <th></th>\n",
       "      <th>Berita</th>\n",
       "      <th>Label</th>\n",
       "      <th>Category_id</th>\n",
       "      <th>Word2Vec Vector</th>\n",
       "    </tr>\n",
       "  </thead>\n",
       "  <tbody>\n",
       "    <tr>\n",
       "      <th>341</th>\n",
       "      <td>['komnas', 'pa', 'kritik', 'sekolah', 'ramah',...</td>\n",
       "      <td>tenaga pendidik</td>\n",
       "      <td>2</td>\n",
       "      <td>[0.2578524351119995, 0.37343114614486694, 0.42...</td>\n",
       "    </tr>\n",
       "    <tr>\n",
       "      <th>931</th>\n",
       "      <td>['babak', 'bur', 'amuk', 'massa', 'duga', 'cab...</td>\n",
       "      <td>orang asing</td>\n",
       "      <td>4</td>\n",
       "      <td>[0.3970339894294739, 0.1592964231967926, 0.153...</td>\n",
       "    </tr>\n",
       "    <tr>\n",
       "      <th>149</th>\n",
       "      <td>['prostitusi', 'anak', 'surabaya', 'via', 'mic...</td>\n",
       "      <td>orang asing</td>\n",
       "      <td>4</td>\n",
       "      <td>[0.40446731448173523, 0.234350323677063, 0.377...</td>\n",
       "    </tr>\n",
       "    <tr>\n",
       "      <th>934</th>\n",
       "      <td>['viral', 'sorot', 'mahfud', 'md', 'kuak', 'la...</td>\n",
       "      <td>pengasuh</td>\n",
       "      <td>1</td>\n",
       "      <td>[0.29028379917144775, 0.3643357455730438, 0.43...</td>\n",
       "    </tr>\n",
       "    <tr>\n",
       "      <th>941</th>\n",
       "      <td>['detikdetik', 'cut', 'intan', 'nabila', 'puku...</td>\n",
       "      <td>keluarga</td>\n",
       "      <td>0</td>\n",
       "      <td>[0.31686830520629883, 0.05335177481174469, 0.3...</td>\n",
       "    </tr>\n",
       "    <tr>\n",
       "      <th>...</th>\n",
       "      <td>...</td>\n",
       "      <td>...</td>\n",
       "      <td>...</td>\n",
       "      <td>...</td>\n",
       "    </tr>\n",
       "    <tr>\n",
       "      <th>47</th>\n",
       "      <td>['armor', 'suami', 'cut', 'intan', 'nabila', '...</td>\n",
       "      <td>keluarga</td>\n",
       "      <td>0</td>\n",
       "      <td>[0.42943599820137024, -0.1530953049659729, 0.3...</td>\n",
       "    </tr>\n",
       "    <tr>\n",
       "      <th>1</th>\n",
       "      <td>['miris', 'anak', 'jakarta', 'korban', 'keras'...</td>\n",
       "      <td>keluarga</td>\n",
       "      <td>0</td>\n",
       "      <td>[0.5230919122695923, 0.1680660843849182, 0.322...</td>\n",
       "    </tr>\n",
       "    <tr>\n",
       "      <th>918</th>\n",
       "      <td>['duga', 'alami', 'depresi', 'kota', 'diri', '...</td>\n",
       "      <td>keluarga</td>\n",
       "      <td>0</td>\n",
       "      <td>[0.3708275854587555, 0.2949237525463104, 0.203...</td>\n",
       "    </tr>\n",
       "    <tr>\n",
       "      <th>729</th>\n",
       "      <td>['anak', 'tewas', 'padang', 'personel', 'polda...</td>\n",
       "      <td>orang asing</td>\n",
       "      <td>4</td>\n",
       "      <td>[0.3556382358074188, 0.1878180056810379, 0.101...</td>\n",
       "    </tr>\n",
       "    <tr>\n",
       "      <th>780</th>\n",
       "      <td>['bocah', 'tular', 'pms', 'perkosa', 'kakek', ...</td>\n",
       "      <td>keluarga</td>\n",
       "      <td>0</td>\n",
       "      <td>[0.47796186804771423, 0.36482205986976624, 0.3...</td>\n",
       "    </tr>\n",
       "  </tbody>\n",
       "</table>\n",
       "<p>98 rows × 4 columns</p>\n",
       "</div>"
      ],
      "text/plain": [
       "                                                Berita            Label  \\\n",
       "341  ['komnas', 'pa', 'kritik', 'sekolah', 'ramah',...  tenaga pendidik   \n",
       "931  ['babak', 'bur', 'amuk', 'massa', 'duga', 'cab...      orang asing   \n",
       "149  ['prostitusi', 'anak', 'surabaya', 'via', 'mic...      orang asing   \n",
       "934  ['viral', 'sorot', 'mahfud', 'md', 'kuak', 'la...         pengasuh   \n",
       "941  ['detikdetik', 'cut', 'intan', 'nabila', 'puku...         keluarga   \n",
       "..                                                 ...              ...   \n",
       "47   ['armor', 'suami', 'cut', 'intan', 'nabila', '...         keluarga   \n",
       "1    ['miris', 'anak', 'jakarta', 'korban', 'keras'...         keluarga   \n",
       "918  ['duga', 'alami', 'depresi', 'kota', 'diri', '...         keluarga   \n",
       "729  ['anak', 'tewas', 'padang', 'personel', 'polda...      orang asing   \n",
       "780  ['bocah', 'tular', 'pms', 'perkosa', 'kakek', ...         keluarga   \n",
       "\n",
       "     Category_id                                    Word2Vec Vector  \n",
       "341            2  [0.2578524351119995, 0.37343114614486694, 0.42...  \n",
       "931            4  [0.3970339894294739, 0.1592964231967926, 0.153...  \n",
       "149            4  [0.40446731448173523, 0.234350323677063, 0.377...  \n",
       "934            1  [0.29028379917144775, 0.3643357455730438, 0.43...  \n",
       "941            0  [0.31686830520629883, 0.05335177481174469, 0.3...  \n",
       "..           ...                                                ...  \n",
       "47             0  [0.42943599820137024, -0.1530953049659729, 0.3...  \n",
       "1              0  [0.5230919122695923, 0.1680660843849182, 0.322...  \n",
       "918            0  [0.3708275854587555, 0.2949237525463104, 0.203...  \n",
       "729            4  [0.3556382358074188, 0.1878180056810379, 0.101...  \n",
       "780            0  [0.47796186804771423, 0.36482205986976624, 0.3...  \n",
       "\n",
       "[98 rows x 4 columns]"
      ]
     },
     "execution_count": 8,
     "metadata": {},
     "output_type": "execute_result"
    }
   ],
   "source": [
    "data_samples = df.sample(frac = 0.10)\n",
    "\n",
    "# Checking if sample is 0.10 times data or not \n",
    "  \n",
    "if (0.10 * (len(df))== len(data_samples)): \n",
    "    print( \"Cool\") \n",
    "    print(len(df), len(data_samples)) \n",
    "  \n",
    "# Display \n",
    "data_samples "
   ]
  },
  {
   "cell_type": "code",
   "execution_count": 10,
   "metadata": {},
   "outputs": [],
   "source": [
    "# Save to CSV\n",
    "data_samples.to_csv('Word2Vec/Sample Word2Vec Vector.csv', index=False)"
   ]
  },
  {
   "cell_type": "code",
   "execution_count": null,
   "metadata": {},
   "outputs": [],
   "source": []
  }
 ],
 "metadata": {
  "kernelspec": {
   "display_name": "Python 3",
   "language": "python",
   "name": "python3"
  },
  "language_info": {
   "codemirror_mode": {
    "name": "ipython",
    "version": 3
   },
   "file_extension": ".py",
   "mimetype": "text/x-python",
   "name": "python",
   "nbconvert_exporter": "python",
   "pygments_lexer": "ipython3",
   "version": "3.10.6"
  },
  "orig_nbformat": 4
 },
 "nbformat": 4,
 "nbformat_minor": 2
}
