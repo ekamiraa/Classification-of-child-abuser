{
 "cells": [
  {
   "cell_type": "code",
   "execution_count": 1,
   "metadata": {},
   "outputs": [],
   "source": [
    "import pandas as pd\n",
    "from sklearn.model_selection import train_test_split\n",
    "import matplotlib.pyplot as plt\n",
    "import seaborn as sns"
   ]
  },
  {
   "attachments": {},
   "cell_type": "markdown",
   "metadata": {},
   "source": [
    "## Load Data"
   ]
  },
  {
   "cell_type": "code",
   "execution_count": 7,
   "metadata": {},
   "outputs": [
    {
     "data": {
      "text/html": [
       "<div>\n",
       "<style scoped>\n",
       "    .dataframe tbody tr th:only-of-type {\n",
       "        vertical-align: middle;\n",
       "    }\n",
       "\n",
       "    .dataframe tbody tr th {\n",
       "        vertical-align: top;\n",
       "    }\n",
       "\n",
       "    .dataframe thead th {\n",
       "        text-align: right;\n",
       "    }\n",
       "</style>\n",
       "<table border=\"1\" class=\"dataframe\">\n",
       "  <thead>\n",
       "    <tr style=\"text-align: right;\">\n",
       "      <th></th>\n",
       "      <th>Berita</th>\n",
       "      <th>Label</th>\n",
       "      <th>Category_id</th>\n",
       "      <th>Word2Vec Vector</th>\n",
       "    </tr>\n",
       "  </thead>\n",
       "  <tbody>\n",
       "    <tr>\n",
       "      <th>0</th>\n",
       "      <td>['duga', 'laku', 'keras', 'anak', 'isa', 'baja...</td>\n",
       "      <td>orang asing</td>\n",
       "      <td>4</td>\n",
       "      <td>[0.4209834635257721, 0.05459590628743172, 0.23...</td>\n",
       "    </tr>\n",
       "    <tr>\n",
       "      <th>1</th>\n",
       "      <td>['miris', 'anak', 'jakarta', 'korban', 'keras'...</td>\n",
       "      <td>keluarga</td>\n",
       "      <td>0</td>\n",
       "      <td>[0.2606388032436371, 0.2641247510910034, 0.067...</td>\n",
       "    </tr>\n",
       "    <tr>\n",
       "      <th>2</th>\n",
       "      <td>['polisi', 'aman', 'oknum', 'guru', 'sd', 'sin...</td>\n",
       "      <td>tenaga pendidik</td>\n",
       "      <td>2</td>\n",
       "      <td>[0.21270155906677246, 0.3647041320800781, 0.25...</td>\n",
       "    </tr>\n",
       "    <tr>\n",
       "      <th>3</th>\n",
       "      <td>['anak', 'tenggelam', 'catat', 'hitam', 'keras...</td>\n",
       "      <td>keluarga</td>\n",
       "      <td>0</td>\n",
       "      <td>[0.33772405982017517, 0.3632403016090393, 0.18...</td>\n",
       "    </tr>\n",
       "    <tr>\n",
       "      <th>4</th>\n",
       "      <td>['sangka', 'bullying', 'sma', 'internasional',...</td>\n",
       "      <td>teman</td>\n",
       "      <td>3</td>\n",
       "      <td>[0.2748887538909912, 0.21491208672523499, 0.00...</td>\n",
       "    </tr>\n",
       "  </tbody>\n",
       "</table>\n",
       "</div>"
      ],
      "text/plain": [
       "                                              Berita            Label  \\\n",
       "0  ['duga', 'laku', 'keras', 'anak', 'isa', 'baja...      orang asing   \n",
       "1  ['miris', 'anak', 'jakarta', 'korban', 'keras'...         keluarga   \n",
       "2  ['polisi', 'aman', 'oknum', 'guru', 'sd', 'sin...  tenaga pendidik   \n",
       "3  ['anak', 'tenggelam', 'catat', 'hitam', 'keras...         keluarga   \n",
       "4  ['sangka', 'bullying', 'sma', 'internasional',...            teman   \n",
       "\n",
       "   Category_id                                    Word2Vec Vector  \n",
       "0            4  [0.4209834635257721, 0.05459590628743172, 0.23...  \n",
       "1            0  [0.2606388032436371, 0.2641247510910034, 0.067...  \n",
       "2            2  [0.21270155906677246, 0.3647041320800781, 0.25...  \n",
       "3            0  [0.33772405982017517, 0.3632403016090393, 0.18...  \n",
       "4            3  [0.2748887538909912, 0.21491208672523499, 0.00...  "
      ]
     },
     "execution_count": 7,
     "metadata": {},
     "output_type": "execute_result"
    }
   ],
   "source": [
    "filename = \"Word2Vec/Word2vec_Vector_3_0.01_70.csv\"\n",
    "df = pd.read_csv(filename)\n",
    "df.head()"
   ]
  },
  {
   "attachments": {},
   "cell_type": "markdown",
   "metadata": {},
   "source": [
    "## Split Data (80:20)"
   ]
  },
  {
   "cell_type": "code",
   "execution_count": 8,
   "metadata": {},
   "outputs": [],
   "source": [
    "# split the dataset into training and temp\n",
    "train_df, temp_df = train_test_split(df, test_size=0.2, random_state=42, shuffle=True)"
   ]
  },
  {
   "cell_type": "code",
   "execution_count": 9,
   "metadata": {},
   "outputs": [
    {
     "data": {
      "text/html": [
       "<div>\n",
       "<style scoped>\n",
       "    .dataframe tbody tr th:only-of-type {\n",
       "        vertical-align: middle;\n",
       "    }\n",
       "\n",
       "    .dataframe tbody tr th {\n",
       "        vertical-align: top;\n",
       "    }\n",
       "\n",
       "    .dataframe thead th {\n",
       "        text-align: right;\n",
       "    }\n",
       "</style>\n",
       "<table border=\"1\" class=\"dataframe\">\n",
       "  <thead>\n",
       "    <tr style=\"text-align: right;\">\n",
       "      <th></th>\n",
       "      <th>Berita</th>\n",
       "      <th>Label</th>\n",
       "      <th>Category_id</th>\n",
       "      <th>Word2Vec Vector</th>\n",
       "    </tr>\n",
       "  </thead>\n",
       "  <tbody>\n",
       "    <tr>\n",
       "      <th>969</th>\n",
       "      <td>['ayah', 'pinrang', 'tangkap', 'sandera', 'anc...</td>\n",
       "      <td>keluarga</td>\n",
       "      <td>0</td>\n",
       "      <td>[0.1796092838048935, 0.4170130491256714, -0.04...</td>\n",
       "    </tr>\n",
       "    <tr>\n",
       "      <th>678</th>\n",
       "      <td>['duga', 'anak', 'bawa', 'orang', 'kenal', 'at...</td>\n",
       "      <td>orang asing</td>\n",
       "      <td>4</td>\n",
       "      <td>[0.10238317400217056, 0.2470414936542511, 0.27...</td>\n",
       "    </tr>\n",
       "    <tr>\n",
       "      <th>894</th>\n",
       "      <td>['dpa', 'laku', 'damping', 'korban', 'laku', '...</td>\n",
       "      <td>teman</td>\n",
       "      <td>3</td>\n",
       "      <td>[0.35820725560188293, 0.20362965762615204, 0.2...</td>\n",
       "    </tr>\n",
       "    <tr>\n",
       "      <th>33</th>\n",
       "      <td>['inara', 'rusli', 'bawa', 'kunci', 'bukti', '...</td>\n",
       "      <td>keluarga</td>\n",
       "      <td>0</td>\n",
       "      <td>[0.16313651204109192, 0.26164698600769043, 0.2...</td>\n",
       "    </tr>\n",
       "    <tr>\n",
       "      <th>31</th>\n",
       "      <td>['viral', 'video', 'bocah', 'ikat', 'tiang', '...</td>\n",
       "      <td>orang asing</td>\n",
       "      <td>4</td>\n",
       "      <td>[0.2542842924594879, 0.24875245988368988, 0.26...</td>\n",
       "    </tr>\n",
       "  </tbody>\n",
       "</table>\n",
       "</div>"
      ],
      "text/plain": [
       "                                                Berita        Label  \\\n",
       "969  ['ayah', 'pinrang', 'tangkap', 'sandera', 'anc...     keluarga   \n",
       "678  ['duga', 'anak', 'bawa', 'orang', 'kenal', 'at...  orang asing   \n",
       "894  ['dpa', 'laku', 'damping', 'korban', 'laku', '...        teman   \n",
       "33   ['inara', 'rusli', 'bawa', 'kunci', 'bukti', '...     keluarga   \n",
       "31   ['viral', 'video', 'bocah', 'ikat', 'tiang', '...  orang asing   \n",
       "\n",
       "     Category_id                                    Word2Vec Vector  \n",
       "969            0  [0.1796092838048935, 0.4170130491256714, -0.04...  \n",
       "678            4  [0.10238317400217056, 0.2470414936542511, 0.27...  \n",
       "894            3  [0.35820725560188293, 0.20362965762615204, 0.2...  \n",
       "33             0  [0.16313651204109192, 0.26164698600769043, 0.2...  \n",
       "31             4  [0.2542842924594879, 0.24875245988368988, 0.26...  "
      ]
     },
     "execution_count": 9,
     "metadata": {},
     "output_type": "execute_result"
    }
   ],
   "source": [
    "train_df.head()"
   ]
  },
  {
   "cell_type": "code",
   "execution_count": 10,
   "metadata": {},
   "outputs": [
    {
     "data": {
      "text/html": [
       "<div>\n",
       "<style scoped>\n",
       "    .dataframe tbody tr th:only-of-type {\n",
       "        vertical-align: middle;\n",
       "    }\n",
       "\n",
       "    .dataframe tbody tr th {\n",
       "        vertical-align: top;\n",
       "    }\n",
       "\n",
       "    .dataframe thead th {\n",
       "        text-align: right;\n",
       "    }\n",
       "</style>\n",
       "<table border=\"1\" class=\"dataframe\">\n",
       "  <thead>\n",
       "    <tr style=\"text-align: right;\">\n",
       "      <th></th>\n",
       "      <th>Berita</th>\n",
       "      <th>Label</th>\n",
       "      <th>Category_id</th>\n",
       "      <th>Word2Vec Vector</th>\n",
       "    </tr>\n",
       "  </thead>\n",
       "  <tbody>\n",
       "    <tr>\n",
       "      <th>199</th>\n",
       "      <td>['kali', 'anak', 'selebgram', 'aghnia', 'aniay...</td>\n",
       "      <td>pengasuh</td>\n",
       "      <td>1</td>\n",
       "      <td>[0.3540416359901428, 0.3076167106628418, 0.085...</td>\n",
       "    </tr>\n",
       "    <tr>\n",
       "      <th>789</th>\n",
       "      <td>['perkosa', 'gadis', 'remaja', 'guru', 'ngaji'...</td>\n",
       "      <td>tenaga pendidik</td>\n",
       "      <td>2</td>\n",
       "      <td>[0.2726620137691498, 0.3287689685821533, 0.108...</td>\n",
       "    </tr>\n",
       "    <tr>\n",
       "      <th>174</th>\n",
       "      <td>['milik', 'daycare', 'pekanbaru', 'sangka', 'l...</td>\n",
       "      <td>pengasuh</td>\n",
       "      <td>1</td>\n",
       "      <td>[0.386101633310318, 0.5253521203994751, 0.0545...</td>\n",
       "    </tr>\n",
       "    <tr>\n",
       "      <th>467</th>\n",
       "      <td>['heboh', 'ayah', 'perkosa', 'anak', 'kandung'...</td>\n",
       "      <td>keluarga</td>\n",
       "      <td>0</td>\n",
       "      <td>[0.27227282524108887, 0.37875014543533325, 0.0...</td>\n",
       "    </tr>\n",
       "    <tr>\n",
       "      <th>66</th>\n",
       "      <td>['ungkap', 'sadis', 'ayah', 'sorong', 'bunuhku...</td>\n",
       "      <td>keluarga</td>\n",
       "      <td>0</td>\n",
       "      <td>[0.2422231286764145, 0.2516114413738251, 0.203...</td>\n",
       "    </tr>\n",
       "  </tbody>\n",
       "</table>\n",
       "</div>"
      ],
      "text/plain": [
       "                                                Berita            Label  \\\n",
       "199  ['kali', 'anak', 'selebgram', 'aghnia', 'aniay...         pengasuh   \n",
       "789  ['perkosa', 'gadis', 'remaja', 'guru', 'ngaji'...  tenaga pendidik   \n",
       "174  ['milik', 'daycare', 'pekanbaru', 'sangka', 'l...         pengasuh   \n",
       "467  ['heboh', 'ayah', 'perkosa', 'anak', 'kandung'...         keluarga   \n",
       "66   ['ungkap', 'sadis', 'ayah', 'sorong', 'bunuhku...         keluarga   \n",
       "\n",
       "     Category_id                                    Word2Vec Vector  \n",
       "199            1  [0.3540416359901428, 0.3076167106628418, 0.085...  \n",
       "789            2  [0.2726620137691498, 0.3287689685821533, 0.108...  \n",
       "174            1  [0.386101633310318, 0.5253521203994751, 0.0545...  \n",
       "467            0  [0.27227282524108887, 0.37875014543533325, 0.0...  \n",
       "66             0  [0.2422231286764145, 0.2516114413738251, 0.203...  "
      ]
     },
     "execution_count": 10,
     "metadata": {},
     "output_type": "execute_result"
    }
   ],
   "source": [
    "temp_df.head()"
   ]
  },
  {
   "cell_type": "code",
   "execution_count": 11,
   "metadata": {},
   "outputs": [],
   "source": [
    "# split the dataset into validation and testing\n",
    "val_df, test_df = train_test_split(temp_df, test_size=0.5, random_state=42, shuffle=True)"
   ]
  },
  {
   "cell_type": "code",
   "execution_count": 13,
   "metadata": {},
   "outputs": [
    {
     "name": "stdout",
     "output_type": "stream",
     "text": [
      "Shape Data Training:  (780, 4)\n",
      "Shape Data Validation:  (97, 4)\n",
      "Shape Data Testing:  (98, 4)\n"
     ]
    }
   ],
   "source": [
    "print(\"Shape Data Training: \", train_df.shape)\n",
    "print(\"Shape Data Validation: \", val_df.shape)\n",
    "print(\"Shape Data Testing: \", test_df.shape)"
   ]
  },
  {
   "cell_type": "code",
   "execution_count": 14,
   "metadata": {},
   "outputs": [],
   "source": [
    "train_df.to_csv(\"Train_Data.csv\", index=False)\n",
    "val_df.to_csv(\"Val_Data.csv\", index=False)\n",
    "test_df.to_csv(\"Test_Data.csv\", index=False)"
   ]
  },
  {
   "attachments": {},
   "cell_type": "markdown",
   "metadata": {},
   "source": [
    "### See The Data"
   ]
  },
  {
   "attachments": {},
   "cell_type": "markdown",
   "metadata": {},
   "source": [
    "##### Bar Chart 1: Number of Train and Test Data"
   ]
  },
  {
   "cell_type": "code",
   "execution_count": 16,
   "metadata": {},
   "outputs": [
    {
     "data": {
      "image/png": "[encoded data removed]",
      "text/plain": [
       "<Figure size 640x480 with 1 Axes>"
      ]
     },
     "metadata": {},
     "output_type": "display_data"
    }
   ],
   "source": [
    "\n",
    "plt.figure()\n",
    "bars = sns.barplot(x=['Train', 'Val','Test'], y=[len(train_df), len(val_df), len(test_df)])\n",
    "\n",
    "# Add text labels on top of bars\n",
    "for bar in bars.patches:\n",
    "    plt.text(bar.get_x() + bar.get_width() / 2, bar.get_height(), \n",
    "             f'{int(bar.get_height())}', \n",
    "             ha='center', va='bottom', color='black')\n",
    "\n",
    "plt.xlabel(\"Tipe Data\")\n",
    "plt.ylabel(\"Jumlah Data\")\n",
    "plt.title(\"Distribusi Data Train dan Test\")\n",
    "plt.ylim(0, max(len(train_df), len(val_df), len(test_df)) * 1.1)  # Adjust ylim for visibility\n",
    "plt.show()"
   ]
  },
  {
   "attachments": {},
   "cell_type": "markdown",
   "metadata": {},
   "source": [
    "##### Bar Chart 2: Number of Perpetrator Categories in Train and Test"
   ]
  },
  {
   "cell_type": "code",
   "execution_count": 9,
   "metadata": {},
   "outputs": [
    {
     "data": {
      "text/plain": [
       "<Figure size 1000x500 with 0 Axes>"
      ]
     },
     "metadata": {},
     "output_type": "display_data"
    },
    {
     "data": {
      "image/png": "[encoded data removed]",
      "text/plain": [
       "<Figure size 1000x500 with 1 Axes>"
      ]
     },
     "metadata": {},
     "output_type": "display_data"
    }
   ],
   "source": [
    "# Mapping Category_id to labels\n",
    "category_labels = {\n",
    "    0: \"Keluarga\",\n",
    "    1: \"Pengasuh\",\n",
    "    2: \"Tenaga Pendidik\",\n",
    "    3: \"Teman\",\n",
    "    4: \"Orang Asing\"\n",
    "}\n",
    "\n",
    "plt.figure(figsize=(10, 5))\n",
    "\n",
    "# Assuming the perpetrator category is in a column named \"perpetrator_category\"\n",
    "train_counts = train_df['Category_id'].value_counts()\n",
    "test_counts = test_df['Category_id'].value_counts()\n",
    "\n",
    "df_counts = pd.DataFrame({'Train': train_counts, 'Test': test_counts}).fillna(0)\n",
    "\n",
    "ax = df_counts.plot(kind='bar', figsize=(10, 5), colormap='coolwarm')\n",
    "\n",
    "plt.xlabel(\"Kategori Pelaku Kekerasan Anak\")\n",
    "plt.ylabel(\"Jumlah Kasus\")\n",
    "plt.title(\"Distribusi Pelaku Kekerasan Anak\")\n",
    "plt.xticks(rotation=0)\n",
    "plt.legend(title=\"Dataset\")\n",
    "\n",
    "# Change X-tick labels to category names\n",
    "ax.set_xticklabels([category_labels[idx] for idx in df_counts.index])\n",
    "\n",
    "# Add text labels on top of bars\n",
    "for container in ax.containers:\n",
    "    ax.bar_label(container, fmt='%d', fontsize=10)\n",
    "\n",
    "plt.show()"
   ]
  },
  {
   "attachments": {},
   "cell_type": "markdown",
   "metadata": {},
   "source": []
  }
 ],
 "metadata": {
  "kernelspec": {
   "display_name": "Python 3",
   "language": "python",
   "name": "python3"
  },
  "language_info": {
   "codemirror_mode": {
    "name": "ipython",
    "version": 3
   },
   "file_extension": ".py",
   "mimetype": "text/x-python",
   "name": "python",
   "nbconvert_exporter": "python",
   "pygments_lexer": "ipython3",
   "version": "3.10.6"
  },
  "orig_nbformat": 4
 },
 "nbformat": 4,
 "nbformat_minor": 2
}
