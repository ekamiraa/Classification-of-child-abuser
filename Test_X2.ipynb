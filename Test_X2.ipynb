{
 "cells": [
  {
   "cell_type": "code",
   "execution_count": 1,
   "metadata": {},
   "outputs": [],
   "source": [
    "import pandas as pd\n",
    "import pickle\n",
    "import numpy as np"
   ]
  },
  {
   "attachments": {},
   "cell_type": "markdown",
   "metadata": {},
   "source": [
    "### Load Model"
   ]
  },
  {
   "cell_type": "code",
   "execution_count": 2,
   "metadata": {},
   "outputs": [],
   "source": [
    "model_filename = \"Result/with_val/NeuralNetwork_Model_X2.pkl\"\n",
    "with open(model_filename, 'rb') as f:\n",
    "    model = pickle.load(f)"
   ]
  },
  {
   "attachments": {},
   "cell_type": "markdown",
   "metadata": {},
   "source": [
    "### Load Data Test"
   ]
  },
  {
   "cell_type": "code",
   "execution_count": 3,
   "metadata": {},
   "outputs": [],
   "source": [
    "test_filename = \"Data Splitting/with_val/Test_Data.csv\""
   ]
  },
  {
   "cell_type": "code",
   "execution_count": 4,
   "metadata": {},
   "outputs": [
    {
     "data": {
      "text/html": [
       "<div>\n",
       "<style scoped>\n",
       "    .dataframe tbody tr th:only-of-type {\n",
       "        vertical-align: middle;\n",
       "    }\n",
       "\n",
       "    .dataframe tbody tr th {\n",
       "        vertical-align: top;\n",
       "    }\n",
       "\n",
       "    .dataframe thead th {\n",
       "        text-align: right;\n",
       "    }\n",
       "</style>\n",
       "<table border=\"1\" class=\"dataframe\">\n",
       "  <thead>\n",
       "    <tr style=\"text-align: right;\">\n",
       "      <th></th>\n",
       "      <th>Berita</th>\n",
       "      <th>Label</th>\n",
       "      <th>Category_id</th>\n",
       "      <th>Word2Vec Vector</th>\n",
       "    </tr>\n",
       "  </thead>\n",
       "  <tbody>\n",
       "    <tr>\n",
       "      <th>0</th>\n",
       "      <td>['pria', 'perkosa', 'anak', 'kandung', 'hamil'...</td>\n",
       "      <td>keluarga</td>\n",
       "      <td>0</td>\n",
       "      <td>[0.27046453952789307, 0.3322403132915497, 0.07...</td>\n",
       "    </tr>\n",
       "    <tr>\n",
       "      <th>1</th>\n",
       "      <td>['pria', 'aceh', 'utara', 'tangkap', 'perkosa'...</td>\n",
       "      <td>keluarga</td>\n",
       "      <td>0</td>\n",
       "      <td>[0.3754759132862091, 0.34394609928131104, 0.04...</td>\n",
       "    </tr>\n",
       "    <tr>\n",
       "      <th>2</th>\n",
       "      <td>['pria', 'duga', 'leceh', 'anak', 'umur', 'rek...</td>\n",
       "      <td>orang asing</td>\n",
       "      <td>4</td>\n",
       "      <td>[0.25263530015945435, 0.2340284287929535, 0.09...</td>\n",
       "    </tr>\n",
       "    <tr>\n",
       "      <th>3</th>\n",
       "      <td>['bocah', 'pontianak', 'bunuh', 'tiri', 'jasad...</td>\n",
       "      <td>keluarga</td>\n",
       "      <td>0</td>\n",
       "      <td>[0.31271788477897644, 0.4681512117385864, 0.06...</td>\n",
       "    </tr>\n",
       "    <tr>\n",
       "      <th>4</th>\n",
       "      <td>['bejat', 'pemuda', 'pulau', 'sumenep', 'perko...</td>\n",
       "      <td>orang asing</td>\n",
       "      <td>4</td>\n",
       "      <td>[0.2824190855026245, 0.3884829878807068, 0.092...</td>\n",
       "    </tr>\n",
       "  </tbody>\n",
       "</table>\n",
       "</div>"
      ],
      "text/plain": [
       "                                              Berita        Label  \\\n",
       "0  ['pria', 'perkosa', 'anak', 'kandung', 'hamil'...     keluarga   \n",
       "1  ['pria', 'aceh', 'utara', 'tangkap', 'perkosa'...     keluarga   \n",
       "2  ['pria', 'duga', 'leceh', 'anak', 'umur', 'rek...  orang asing   \n",
       "3  ['bocah', 'pontianak', 'bunuh', 'tiri', 'jasad...     keluarga   \n",
       "4  ['bejat', 'pemuda', 'pulau', 'sumenep', 'perko...  orang asing   \n",
       "\n",
       "   Category_id                                    Word2Vec Vector  \n",
       "0            0  [0.27046453952789307, 0.3322403132915497, 0.07...  \n",
       "1            0  [0.3754759132862091, 0.34394609928131104, 0.04...  \n",
       "2            4  [0.25263530015945435, 0.2340284287929535, 0.09...  \n",
       "3            0  [0.31271788477897644, 0.4681512117385864, 0.06...  \n",
       "4            4  [0.2824190855026245, 0.3884829878807068, 0.092...  "
      ]
     },
     "execution_count": 4,
     "metadata": {},
     "output_type": "execute_result"
    }
   ],
   "source": [
    "df = pd.read_csv(test_filename)\n",
    "df.head()"
   ]
  },
  {
   "cell_type": "code",
   "execution_count": 5,
   "metadata": {},
   "outputs": [
    {
     "data": {
      "text/plain": [
       "(98, 4)"
      ]
     },
     "execution_count": 5,
     "metadata": {},
     "output_type": "execute_result"
    }
   ],
   "source": [
    "df.shape"
   ]
  },
  {
   "attachments": {},
   "cell_type": "markdown",
   "metadata": {},
   "source": [
    "### Processing The Data for Neural Network Input"
   ]
  },
  {
   "cell_type": "code",
   "execution_count": 6,
   "metadata": {},
   "outputs": [],
   "source": [
    "# Get the locations\n",
    "X_test = df['Word2Vec Vector']\n",
    "y_test = df['Category_id']"
   ]
  },
  {
   "cell_type": "code",
   "execution_count": 7,
   "metadata": {},
   "outputs": [],
   "source": [
    "# Convert string to float\n",
    "X_test = np.array([list(map(float, row.strip(\"[]\").split(','))) for row in X_test])\n",
    "X_test = X_test.T"
   ]
  },
  {
   "cell_type": "code",
   "execution_count": 8,
   "metadata": {},
   "outputs": [],
   "source": [
    "y_test = np.array(y_test)"
   ]
  },
  {
   "cell_type": "code",
   "execution_count": 9,
   "metadata": {},
   "outputs": [
    {
     "name": "stdout",
     "output_type": "stream",
     "text": [
      "Shape X_test:  (100, 98)\n",
      "Shape y_test:  (98,)\n"
     ]
    }
   ],
   "source": [
    "# Make it suitable for my Neural Network input\n",
    "print(\"Shape X_test: \", X_test.shape)\n",
    "print(\"Shape y_test: \", y_test.shape)"
   ]
  },
  {
   "attachments": {},
   "cell_type": "markdown",
   "metadata": {},
   "source": [
    "### See the prediction and actual value"
   ]
  },
  {
   "cell_type": "code",
   "execution_count": 10,
   "metadata": {},
   "outputs": [
    {
     "name": "stdout",
     "output_type": "stream",
     "text": [
      "    prediction  actual\n",
      "0            0       0\n",
      "1            4       0\n",
      "2            3       4\n",
      "3            0       0\n",
      "4            2       4\n",
      "..         ...     ...\n",
      "93           0       0\n",
      "94           0       0\n",
      "95           4       2\n",
      "96           3       3\n",
      "97           3       0\n",
      "\n",
      "[98 rows x 2 columns]\n"
     ]
    }
   ],
   "source": [
    "_, P, p_activation, Q, q_activation = model.forward(X_test)\n",
    "predictions = np.argmax(q_activation, 0)\n",
    "\n",
    "# show in dataframe with prediction and actual value\n",
    "import pandas as pd\n",
    "df = pd.DataFrame({'prediction': predictions, 'actual': y_test})\n",
    "print(df)\n",
    "df.to_csv(\"Prediction and Actual\", index=False)"
   ]
  },
  {
   "attachments": {},
   "cell_type": "markdown",
   "metadata": {},
   "source": [
    "### Result"
   ]
  },
  {
   "cell_type": "code",
   "execution_count": 11,
   "metadata": {},
   "outputs": [],
   "source": [
    "# make confusion matrix\n",
    "from sklearn.metrics import confusion_matrix\n",
    "import seaborn as sns\n",
    "import matplotlib.pyplot as plt\n",
    "import matplotlib.colors as mcolors"
   ]
  },
  {
   "cell_type": "code",
   "execution_count": 12,
   "metadata": {},
   "outputs": [],
   "source": [
    "model_name = 'X2'"
   ]
  },
  {
   "cell_type": "code",
   "execution_count": 13,
   "metadata": {},
   "outputs": [
    {
     "data": {
      "text/plain": [
       "Text(0.5, 1.0, 'Confusion Matrix of Model X2')"
      ]
     },
     "execution_count": 13,
     "metadata": {},
     "output_type": "execute_result"
    },
    {
     "data": {
      "image/png": "[encoded data removed]",
      "text/plain": [
       "<Figure size 800x600 with 2 Axes>"
      ]
     },
     "metadata": {},
     "output_type": "display_data"
    }
   ],
   "source": [
    "# Confusion Matrix\n",
    "conf_matrix = confusion_matrix(y_test, predictions)\n",
    "cat_code = {\n",
    "    0: \"Keluarga\",\n",
    "    1: \"Pengasuh\",\n",
    "    2: \"Tenaga Pendidik\",\n",
    "    3: \"Teman\",\n",
    "    4: \"Orang Asing\"\n",
    "}\n",
    "\n",
    "# 80 : 20\n",
    "plt.figure(figsize=(8, 6))\n",
    "sns.heatmap(conf_matrix, annot=True, fmt='d', xticklabels=cat_code.values(), yticklabels=cat_code.values(), cmap=\"Blues\",\n",
    "            annot_kws={\"size\": 16})\n",
    "plt.xlabel('Prediction')\n",
    "plt.ylabel('Actual')\n",
    "plt.title('Confusion Matrix of Model ' + model_name)"
   ]
  },
  {
   "cell_type": "code",
   "execution_count": 14,
   "metadata": {},
   "outputs": [
    {
     "name": "stdout",
     "output_type": "stream",
     "text": [
      "                 precision    recall  f1-score   support\n",
      "\n",
      "       Keluarga       0.87      0.90      0.88        59\n",
      "       Pengasuh       0.83      0.56      0.67         9\n",
      "Tenaga Pendidik       0.50      0.60      0.55         5\n",
      "          Teman       0.62      0.89      0.73         9\n",
      "    Orang Asing       0.50      0.38      0.43        16\n",
      "\n",
      "       accuracy                           0.77        98\n",
      "      macro avg       0.66      0.66      0.65        98\n",
      "   weighted avg       0.76      0.77      0.76        98\n",
      "\n"
     ]
    }
   ],
   "source": [
    "from sklearn.metrics import classification_report\n",
    "class_report = classification_report(y_test, predictions, target_names=cat_code.values())\n",
    "\n",
    "print(class_report)"
   ]
  },
  {
   "cell_type": "code",
   "execution_count": 15,
   "metadata": {},
   "outputs": [
    {
     "name": "stdout",
     "output_type": "stream",
     "text": [
      "Accuracy     : 0.7653061224489796\n",
      "Precision    : [0.86885246 0.83333333 0.5        0.61538462 0.5       ]\n",
      "Recall       : [0.89830508 0.55555556 0.6        0.88888889 0.375     ]\n",
      "F1-Score     : [0.88333333 0.66666667 0.54545455 0.72727273 0.42857143]\n"
     ]
    }
   ],
   "source": [
    "from sklearn.metrics import accuracy_score, precision_score, recall_score, f1_score\n",
    "\n",
    "accuracy = accuracy_score(y_test, predictions)\n",
    "precision = precision_score(y_test, predictions, average=None)\n",
    "recall = recall_score(y_test, predictions, average=None)\n",
    "f1 = f1_score(y_test, predictions, average=None)\n",
    "\n",
    "print(\"Accuracy     :\", accuracy)\n",
    "print(\"Precision    :\", precision)\n",
    "print(\"Recall       :\", recall)\n",
    "print(\"F1-Score     :\", f1)"
   ]
  },
  {
   "cell_type": "code",
   "execution_count": 16,
   "metadata": {},
   "outputs": [
    {
     "data": {
      "image/png": "[encoded data removed]",
      "text/plain": [
       "<Figure size 640x480 with 1 Axes>"
      ]
     },
     "metadata": {},
     "output_type": "display_data"
    },
    {
     "name": "stdout",
     "output_type": "stream",
     "text": [
      "Scores of Testing Data Model X2\n",
      "Accuracy   : 0.7653061224489796\n",
      "Precision  : 0.6635140815468684\n",
      "Recall     : 0.6635499058380414\n",
      "F1         : 0.6502597402597401\n"
     ]
    }
   ],
   "source": [
    "# plot each precision, recall, and F1 in one graph\n",
    "precision_avg = np.mean(precision)\n",
    "recall_avg = np.mean(recall)\n",
    "f1_avg = np.mean(f1)\n",
    "\n",
    "plt.bar(['Accuracy'], [accuracy])\n",
    "plt.bar(['Precision'], [precision_avg])\n",
    "plt.bar(['Recall'], [recall_avg])\n",
    "plt.bar(['F1'], [f1_avg])\n",
    "\n",
    "plt.ylim(0, 1)\n",
    "plt.xlabel('Metrics')\n",
    "plt.ylabel('Score')\n",
    "\n",
    "plt.text('Accuracy', accuracy + 0.01, str(round(accuracy, 3)), ha='center')\n",
    "plt.text( 'Precision', precision_avg + 0.01, str(round(precision_avg, 3)), ha='center')\n",
    "plt.text('Recall', recall_avg + 0.01, str(round(recall_avg, 3)), ha='center')\n",
    "plt.text('F1', f1_avg + 0.01, str(round(f1_avg, 3)), ha='center')\n",
    "plt.title('Scores of Testing Data Model ' + model_name)\n",
    "plt.show()\n",
    "\n",
    "print('Scores of Testing Data Model ' + model_name)\n",
    "print('Accuracy   :', accuracy)\n",
    "print('Precision  :', precision_avg)\n",
    "print('Recall     :', recall_avg)\n",
    "print('F1         :', f1_avg)"
   ]
  },
  {
   "cell_type": "code",
   "execution_count": null,
   "metadata": {},
   "outputs": [],
   "source": []
  }
 ],
 "metadata": {
  "kernelspec": {
   "display_name": "Python 3",
   "language": "python",
   "name": "python3"
  },
  "language_info": {
   "codemirror_mode": {
    "name": "ipython",
    "version": 3
   },
   "file_extension": ".py",
   "mimetype": "text/x-python",
   "name": "python",
   "nbconvert_exporter": "python",
   "pygments_lexer": "ipython3",
   "version": "3.10.6"
  },
  "orig_nbformat": 4
 },
 "nbformat": 4,
 "nbformat_minor": 2
}
